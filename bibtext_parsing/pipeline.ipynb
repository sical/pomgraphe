{
 "cells": [
  {
   "cell_type": "code",
   "execution_count": 1,
   "metadata": {
    "collapsed": true
   },
   "outputs": [],
   "source": [
    "import requests as req\n",
    "from pprint import pprint\n",
    "import scholarly\n",
    "import os"
   ]
  },
  {
   "cell_type": "code",
   "execution_count": 2,
   "metadata": {
    "collapsed": true
   },
   "outputs": [],
   "source": [
    "def find(name, surname, team, display = False):\n",
    "    full_name = name + \"_\" + surname\n",
    "    full_name = full_name.replace(\" \",\"_\")\n",
    "    \n",
    "    # url where bibtex file is stored\n",
    "    base_url = \"http://dblp.org/search/publ/api\"\n",
    "    url = base_url + \"?q=author%3A\" + full_name + \"%3A&format=bib\"\n",
    "    resp = req.get(url)\n",
    "    if display:\n",
    "        print(resp.text)\n",
    "    else:\n",
    "        print(\"nb articles: \" + str(resp.text.count(\"@\")))\n",
    "    \n",
    "    # creates directory where to store file if not already existing\n",
    "    path = os.getcwd() + \"\\\\bibtex_data\\\\\" + team\n",
    "    if not os.path.isdir(path):\n",
    "        os.mkdir(path)\n",
    "    \n",
    "    # stores file\n",
    "    file_name = \"bibtex_data/\" + team + \"/\" + surname + \"_\" + name + \".bib\"\n",
    "    file = open(file_name, 'w')\n",
    "    file.write(resp.text)\n",
    "    file.close()"
   ]
  },
  {
   "cell_type": "code",
   "execution_count": 63,
   "metadata": {
    "scrolled": false
   },
   "outputs": [
    {
     "name": "stdout",
     "output_type": "stream",
     "text": [
      "nb articles: 30\n"
     ]
    }
   ],
   "source": [
    "find(\"Karim\",\"Benouaret\",\"SOC\")"
   ]
  },
  {
   "cell_type": "code",
   "execution_count": null,
   "metadata": {
    "collapsed": true
   },
   "outputs": [],
   "source": []
  }
 ],
 "metadata": {
  "kernelspec": {
   "display_name": "Python 3",
   "language": "python",
   "name": "python3"
  },
  "language_info": {
   "codemirror_mode": {
    "name": "ipython",
    "version": 3
   },
   "file_extension": ".py",
   "mimetype": "text/x-python",
   "name": "python",
   "nbconvert_exporter": "python",
   "pygments_lexer": "ipython3",
   "version": "3.6.3"
  }
 },
 "nbformat": 4,
 "nbformat_minor": 2
}
