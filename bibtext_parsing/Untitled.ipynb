{
 "cells": [
  {
   "cell_type": "code",
   "execution_count": 8,
   "metadata": {
    "collapsed": true
   },
   "outputs": [],
   "source": [
    "import requests as req"
   ]
  },
  {
   "cell_type": "code",
   "execution_count": 51,
   "metadata": {
    "collapsed": true
   },
   "outputs": [],
   "source": [
    "def find(name,team):\n",
    "    base_url = \"http://dblp.org/search/author/api\"\n",
    "    url = base_url + \"?q=\" + name + \"&format=json&f=300\"\n",
    "    \n",
    "    resp = req.get(url)\n",
    "    print(url)\n",
    "    print(resp.text)\n",
    "    \n",
    "   # file = open('test/test.bib', 'w')\n",
    "    #file.write(resp)\n",
    "    #file.close()"
   ]
  },
  {
   "cell_type": "code",
   "execution_count": 53,
   "metadata": {},
   "outputs": [
    {
     "name": "stdout",
     "output_type": "stream",
     "text": [
      "http://dblp.org/search/author/api?q=Romain_Vuillmot&format=json&f=300\n",
      "{\r\n",
      "\"result\":{\r\n",
      "\"query\":\"Romain* Vuillmot*\",\r\n",
      "\"status\":{\r\n",
      "\"@code\":\"200\",\r\n",
      "\"text\":\"OK\"\r\n",
      "},\r\n",
      "\"time\":{\r\n",
      "\"@unit\":\"msecs\",\r\n",
      "\"text\":\"0.14\"\r\n",
      "},\r\n",
      "\"completions\":{\r\n",
      "\"@total\":\"0\",\r\n",
      "\"@computed\":\"0\",\r\n",
      "\"@sent\":\"0\"\r\n",
      "},\r\n",
      "\"hits\":{\r\n",
      "\"@total\":\"0\",\r\n",
      "\"@computed\":\"0\",\r\n",
      "\"@sent\":\"0\",\r\n",
      "\"@first\":\"300\"}\r\n",
      "}\r\n",
      "}\r\n",
      "\n"
     ]
    }
   ],
   "source": [
    "find(\"Romain_Vuillmot\",\"sical\")"
   ]
  }
 ],
 "metadata": {
  "kernelspec": {
   "display_name": "Python 3",
   "language": "python",
   "name": "python3"
  },
  "language_info": {
   "codemirror_mode": {
    "name": "ipython",
    "version": 3
   },
   "file_extension": ".py",
   "mimetype": "text/x-python",
   "name": "python",
   "nbconvert_exporter": "python",
   "pygments_lexer": "ipython3",
   "version": "3.6.3"
  }
 },
 "nbformat": 4,
 "nbformat_minor": 2
}
