{
 "cells": [
  {
   "cell_type": "code",
   "execution_count": 1,
   "metadata": {
    "collapsed": true
   },
   "outputs": [],
   "source": [
    "from pybtex.database import parse_file\n",
    "import json\n",
    "from pprint import pprint"
   ]
  },
  {
   "cell_type": "code",
   "execution_count": 2,
   "metadata": {
    "collapsed": true
   },
   "outputs": [],
   "source": [
    "bib_data = parse_file('Vuillemot_Romain.bib')"
   ]
  },
  {
   "cell_type": "code",
   "execution_count": 3,
   "metadata": {},
   "outputs": [],
   "source": [
    "test = bib_data.entries"
   ]
  },
  {
   "cell_type": "code",
   "execution_count": 8,
   "metadata": {},
   "outputs": [],
   "source": [
    "# dict parsing\n",
    "# to be upraded\n",
    "\n",
    "data = dict()\n",
    "for j in test :\n",
    "    dataset = dict()\n",
    "    if 'author' in test[j].persons:\n",
    "        str = 'author'\n",
    "    elif 'editor' in test[j].persons: \n",
    "        str = 'editor'\n",
    "    else: \n",
    "        continue\n",
    "    for i in test[j].persons[str]:\n",
    "        dataset[i.first_names[0]] = i.last_names[0]\n",
    "    data[j] = dataset\n"
   ]
  },
  {
   "cell_type": "code",
   "execution_count": 6,
   "metadata": {},
   "outputs": [],
   "source": [
    "# list parsing\n",
    "# not working yet \n",
    "\n",
    "data = dict()\n",
    "for j in test :\n",
    "    dataset = []\n",
    "    if 'author' in test[j].persons:\n",
    "        str = 'author'\n",
    "    elif 'editor' in test[j].persons: \n",
    "        str = 'editor'\n",
    "    else: \n",
    "        continue\n",
    "    for i in test[j].persons[str]:\n",
    "        dataset.append(i)\n",
    "    data[j] = dataset"
   ]
  },
  {
   "cell_type": "code",
   "execution_count": 10,
   "metadata": {},
   "outputs": [
    {
     "name": "stdout",
     "output_type": "stream",
     "text": [
      "{'DBLP:conf/chi/2011a': {'Bo': 'Begole',\n",
      "                         'Desney': 'Tan',\n",
      "                         'Manas': 'Tungare',\n",
      "                         'Saleema': 'Amershi',\n",
      "                         'Wendy': 'Kellogg'},\n",
      " 'DBLP:conf/chi/2014': {'Albrecht': 'Schmidt',\n",
      "                        'Matt': 'Jones',\n",
      "                        'Philippe': 'Palanque',\n",
      "                        'Tovi': 'Grossman'},\n",
      " 'DBLP:conf/chi/2015': {'Bo': 'Begole',\n",
      "                        'Jinwoo': 'Kim',\n",
      "                        'Kori': 'Inkpen',\n",
      "                        'Woontack': 'Woo'},\n",
      " 'DBLP:conf/chi/2015a': {'Bo': 'Begole',\n",
      "                         'Jinwoo': 'Kim',\n",
      "                         'Kori': 'Inkpen',\n",
      "                         'Woontack': 'Woo'},\n",
      " 'DBLP:conf/chi/PerinVF14': {'Charles': 'Perin',\n",
      "                             'Jean{-}Daniel': 'Fekete',\n",
      "                             'Romain': 'Vuillemot'},\n",
      " 'DBLP:conf/chi/VuillemotA15': {'Mehmet': 'Akmanalp', 'Romain': 'Vuillemot'},\n",
      " 'DBLP:conf/chi/VuillemotP15': {'Charles': 'Perin', 'Romain': 'Vuillemot'},\n",
      " 'DBLP:conf/chi/VuillemotPH11': {'Jean{-}Marc': 'Petit',\n",
      "                                 'Mohand{-}Said': 'Hacid',\n",
      "                                 'Romain': 'Vuillemot'},\n",
      " 'DBLP:conf/f-egc/2010': {'Jean{-}Marc': 'Petit', 'Sadok': 'Yahia'},\n",
      " 'DBLP:conf/f-egc/ScuturiciSVOB10': {'Aris': 'Ouksel',\n",
      "                                     'Dan{-}Mircea': 'Suciu',\n",
      "                                     'Lionel': 'Brunie',\n",
      "                                     'Romain': 'Vuillemot',\n",
      "                                     'Vasile{-}Marian': 'Scuturici'},\n",
      " 'DBLP:conf/ht/2008': {'Hugh': 'Davis', 'Peter': 'Brusilovsky'},\n",
      " 'DBLP:conf/ht/VuillemotR08': {\"B{\\\\'{e}}atrice\": 'Rumpler',\n",
      "                               'Romain': 'Vuillemot'},\n",
      " 'DBLP:conf/iat/2011w': {'Einoshin': 'Suzuki',\n",
      "                         'Jean{-}Marc': 'Petit',\n",
      "                         'Jomi': 'H{\\\\\"{u}}bner'},\n",
      " 'DBLP:conf/iat/MulsantRV11': {'Ga{\\\\\"{e}}lle': \"Recourc{\\\\'{e}}\",\n",
      "                               \"J{\\\\'{e}}r{\\\\^{o}}me\": 'Mulsant',\n",
      "                               'Romain': 'Vuillemot'},\n",
      " 'DBLP:conf/iceis/2008': {'Joaquim': 'Filipe', \"Jos{\\\\'{e}}\": 'Cordeiro'},\n",
      " 'DBLP:conf/iceis/2008-5': {'Joaquim': 'Filipe', \"Jos{\\\\'{e}}\": 'Cordeiro'},\n",
      " 'DBLP:conf/iceis/VuillemotRP08': {\"B{\\\\'{e}}atrice\": 'Rumpler',\n",
      "                                   'Jean{-}Marie': 'Pinon',\n",
      "                                   'Romain': 'Vuillemot'},\n",
      " 'DBLP:conf/iceis/VuillemotRP08a': {\"B{\\\\'{e}}atrice\": 'Rumpler',\n",
      "                                    'Jean{-}Marie': 'Pinon',\n",
      "                                    'Romain': 'Vuillemot'},\n",
      " 'DBLP:conf/ieeevast/VuillemotCPK09': {'Amit': 'Kumar',\n",
      "                                       'Catherine': 'Plaisant',\n",
      "                                       'Romain': 'Vuillemot',\n",
      "                                       'Tanya': 'Clement'},\n",
      " 'DBLP:conf/ihm/2009': {'Ga{\\\\\"{e}}lle': 'Calvary',\n",
      "                        'Jo{\\\\\"{e}}lle': 'Coutaz',\n",
      "                        'Philippe': 'Palanque'},\n",
      " 'DBLP:conf/ihm/2011': {'Michel': 'Riveill'},\n",
      " 'DBLP:conf/ihm/VuillemotMR11': {'Ga{\\\\\"{e}}lle': \"Recourc{\\\\'{e}}\",\n",
      "                                 \"J{\\\\'{e}}r{\\\\^{o}}me\": 'Mulsant',\n",
      "                                 'Romain': 'Vuillemot'},\n",
      " 'DBLP:conf/ihm/VuillemotR09': {\"B{\\\\'{e}}atrice\": 'Rumpler',\n",
      "                                'Romain': 'Vuillemot'},\n",
      " 'DBLP:conf/medes/2009': {'Agma': 'Traina',\n",
      "                          'Epaminondas': 'Kapetanios',\n",
      "                          'Richard': 'Chbeir',\n",
      "                          'Youakim': 'Badr'},\n",
      " 'DBLP:conf/medes/VuillemotR09': {\"B{\\\\'{e}}atrice\": 'Rumpler',\n",
      "                                  'Romain': 'Vuillemot'},\n",
      " 'DBLP:conf/www/2018c': {'Fabien': 'Gandon',\n",
      "                         'Mounia': 'Lalmas',\n",
      "                         'Panagiotis': 'Ipeirotis',\n",
      "                         'Pierre{-}Antoine': 'Champin'},\n",
      " 'DBLP:conf/www/BonifatiW18': {'Angela': 'Bonifati', 'Romain': 'Vuillemot'},\n",
      " 'DBLP:journals/cga/VuillemotP16': {'Charles': 'Perin', 'Romain': 'Vuillemot'},\n",
      " 'DBLP:journals/cgf/PerinVSSWC18': {'Charles': 'Stolper',\n",
      "                                    'J.': 'Wood',\n",
      "                                    'John': 'Stasko',\n",
      "                                    'Romain': 'Vuillemot',\n",
      "                                    'Sheelagh': 'Carpendale'},\n",
      " 'DBLP:journals/corr/abs-1811-11561': {'Amaia': 'Diaz',\n",
      "                                       'Angela': 'Bonifati',\n",
      "                                       'Romain': 'Vuillemot',\n",
      "                                       'Stefania': 'Dumbrava'},\n",
      " 'DBLP:journals/isi/HuronVF14': {'Jean{-}Daniel': 'Fekete',\n",
      "                                 'Romain': 'Vuillemot',\n",
      "                                 'Samuel': 'Huron'},\n",
      " 'DBLP:journals/ria/Vuillemot12': {'Romain': 'Vuillemot'},\n",
      " 'DBLP:journals/tvcg/ChevalierVG13': {'Fanny': 'Chevalier',\n",
      "                                      'Guia': 'Gali',\n",
      "                                      'Romain': 'Vuillemot'},\n",
      " 'DBLP:journals/tvcg/HuronVF13': {'Jean{-}Daniel': 'Fekete',\n",
      "                                  'Romain': 'Vuillemot',\n",
      "                                  'Samuel': 'Huron'},\n",
      " 'DBLP:journals/tvcg/HurterRDCAV19': {'Christophe': 'Hurter',\n",
      "                                      'Maxime': 'Cordeil',\n",
      "                                      'Nathalie': 'Riche',\n",
      "                                      'Richard': 'Alligier',\n",
      "                                      'Romain': 'Vuillemot',\n",
      "                                      'Steven': 'Drucker'},\n",
      " 'DBLP:journals/tvcg/LexGSVP14': {'Alexander': 'Lex',\n",
      "                                  'Hanspeter': 'Pfister',\n",
      "                                  'Hendrik': 'Strobelt',\n",
      "                                  'Nils': 'Gehlenborg',\n",
      "                                  'Romain': 'Vuillemot'},\n",
      " 'DBLP:journals/tvcg/PerinVF13': {'Charles': 'Perin',\n",
      "                                  'Jean{-}Daniel': 'Fekete',\n",
      "                                  'Romain': 'Vuillemot'},\n",
      " 'DBLP:journals/tvcg/VuillemotB18': {'Jeremy': 'Boy', 'Romain': 'Vuillemot'},\n",
      " 'DBLP:phd/hal/Vuillemot10': {'Romain': 'Vuillemot'}}\n"
     ]
    }
   ],
   "source": [
    "# to execute after either list parsing or dict parsing cells\n",
    "\n",
    "with open('test.json', 'w') as f:\n",
    "    json.dump(data, f)\n",
    "\n",
    "pprint(data)"
   ]
  }
 ],
 "metadata": {
  "kernelspec": {
   "display_name": "Python 3",
   "language": "python",
   "name": "python3"
  },
  "language_info": {
   "codemirror_mode": {
    "name": "ipython",
    "version": 3
   },
   "file_extension": ".py",
   "mimetype": "text/x-python",
   "name": "python",
   "nbconvert_exporter": "python",
   "pygments_lexer": "ipython3",
   "version": "3.6.3"
  }
 },
 "nbformat": 4,
 "nbformat_minor": 2
}
