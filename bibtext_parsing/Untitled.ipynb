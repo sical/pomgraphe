{
 "cells": [
  {
   "cell_type": "code",
   "execution_count": 1,
   "metadata": {
    "collapsed": true
   },
   "outputs": [],
   "source": [
    "import requests as req\n",
    "from pprint import pprint"
   ]
  },
  {
   "cell_type": "code",
   "execution_count": 12,
   "metadata": {
    "collapsed": true
   },
   "outputs": [],
   "source": [
    "def find(name,team):\n",
    "    name = name.replace(\" \",\":\")\n",
    "    cmpt = 0\n",
    "    \n",
    "    base_url = \"http://dblp.org/search/publ/api\"\n",
    "    url = base_url + \"?q=\" + name + \"+search&format=json&f=\" + str(cmpt)\n",
    "\n",
    "    resp = req.get(url)\n",
    "    #print(resp.text)\n",
    "    if resp.json()[\"result\"][\"hits\"][\"@sent\"] != \"0\":\n",
    "        pprint(resp.json()[\"result\"][\"hits\"][\"hit\"][0][\"info\"])\n",
    "    \n",
    "   # file = open('test/test.bib', 'w')\n",
    "    #file.write(resp)\n",
    "    #file.close()"
   ]
  },
  {
   "cell_type": "code",
   "execution_count": 13,
   "metadata": {
    "scrolled": false
   },
   "outputs": [
    {
     "name": "stdout",
     "output_type": "stream",
     "text": [
      "{'authors': {'author': ['Romain Vuillemot', 'Mehmet Akmanalp']},\n",
      " 'doi': '10.1145/2702613.2732753',\n",
      " 'ee': 'https://doi.org/10.1145/2702613.2732753',\n",
      " 'key': 'conf/chi/VuillemotA15',\n",
      " 'pages': '1821-1826',\n",
      " 'title': 'Towards Text Search for Information Visualization Retrieval.',\n",
      " 'type': 'Conference and Workshop Papers',\n",
      " 'url': 'https://dblp.org/rec/conf/chi/VuillemotA15',\n",
      " 'venue': 'CHI Extended Abstracts',\n",
      " 'year': '2015'}\n"
     ]
    }
   ],
   "source": [
    "find(\"Romain Vuillemot\",\"sical\")"
   ]
  }
 ],
 "metadata": {
  "kernelspec": {
   "display_name": "Python 3",
   "language": "python",
   "name": "python3"
  },
  "language_info": {
   "codemirror_mode": {
    "name": "ipython",
    "version": 3
   },
   "file_extension": ".py",
   "mimetype": "text/x-python",
   "name": "python",
   "nbconvert_exporter": "python",
   "pygments_lexer": "ipython3",
   "version": "3.6.3"
  }
 },
 "nbformat": 4,
 "nbformat_minor": 2
}
