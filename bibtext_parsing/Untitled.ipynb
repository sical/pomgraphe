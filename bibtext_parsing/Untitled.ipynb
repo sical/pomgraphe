{
 "cells": [
  {
   "cell_type": "code",
   "execution_count": 1,
   "metadata": {
    "collapsed": true
   },
   "outputs": [],
   "source": [
    "from pybtex.database import parse_file\n",
    "import json\n",
    "from pprint import pprint"
   ]
  },
  {
   "cell_type": "code",
   "execution_count": 2,
   "metadata": {
    "collapsed": true
   },
   "outputs": [],
   "source": [
    "bib_data = parse_file('Vuillemot_Romain.bib')"
   ]
  },
  {
   "cell_type": "code",
   "execution_count": 3,
   "metadata": {
    "collapsed": true
   },
   "outputs": [],
   "source": [
    "test = bib_data.entries"
   ]
  },
  {
   "cell_type": "code",
   "execution_count": 17,
   "metadata": {},
   "outputs": [
    {
     "name": "stdout",
     "output_type": "stream",
     "text": [
      "<class 'pybtex.database.Person'>\n"
     ]
    }
   ],
   "source": [
    "print(type(test['DBLP:journals/tvcg/HurterRDCAV19'].persons['author'][0]))"
   ]
  },
  {
   "cell_type": "code",
   "execution_count": 14,
   "metadata": {
    "collapsed": true
   },
   "outputs": [],
   "source": [
    "# dict parsing\n",
    "# to be upraded\n",
    "\n",
    "data = dict()\n",
    "for j in test :\n",
    "    dataset = dict()\n",
    "    if 'author' in test[j].persons:\n",
    "        str = 'author'\n",
    "    elif 'editor' in test[j].persons: \n",
    "        str = 'editor'\n",
    "    else: \n",
    "        continue\n",
    "    for i in test[j].persons[str]:\n",
    "        first = \"\"\n",
    "        middle = \"\"\n",
    "        last = \"\"\n",
    "        line = \"\"\n",
    "        all = \"\"\n",
    "        if i.first_names:\n",
    "            all += i.first_names[0]\n",
    "        if i.middle_names:\n",
    "            all += \" \" + i.middle_names[0]\n",
    "        if i.last_names:\n",
    "            all += \" \" + i.last_names[0]\n",
    "        if i.lineage_names:\n",
    "            all += \" \" + i.lineage_names[0]\n",
    "        dataset[all] = \"author\"\n",
    "    data[j] = dataset\n"
   ]
  },
  {
   "cell_type": "code",
   "execution_count": 19,
   "metadata": {
    "collapsed": true
   },
   "outputs": [],
   "source": [
    "# list parsing\n",
    "# \n",
    "\n",
    "data = dict()\n",
    "for j in test :\n",
    "    dataset = []\n",
    "    if 'author' in test[j].persons:\n",
    "        str = 'author'\n",
    "    elif 'editor' in test[j].persons: \n",
    "        str = 'editor'\n",
    "    else: \n",
    "        continue\n",
    "    for i in test[j].persons[str]:\n",
    "        first = \"\"\n",
    "        middle = \"\"\n",
    "        last = \"\"\n",
    "        line = \"\"\n",
    "        all = \"\"\n",
    "        if i.first_names:\n",
    "            all += i.first_names[0]\n",
    "        if i.middle_names:\n",
    "            all += \" \" + i.middle_names[0]\n",
    "        if i.last_names:\n",
    "            all += \" \" + i.last_names[0]\n",
    "        if i.lineage_names:\n",
    "            all += \" \" + i.lineage_names[0]\n",
    "        dataset.append(all)\n",
    "    data[j] = dataset"
   ]
  },
  {
   "cell_type": "code",
   "execution_count": 20,
   "metadata": {},
   "outputs": [
    {
     "name": "stdout",
     "output_type": "stream",
     "text": [
      "{'DBLP:conf/chi/2011a': ['Desney S. Tan',\n",
      "                         'Saleema Amershi',\n",
      "                         'Bo Begole',\n",
      "                         'Wendy A. Kellogg',\n",
      "                         'Manas Tungare'],\n",
      " 'DBLP:conf/chi/2014': ['Matt Jones',\n",
      "                        'Philippe A. Palanque',\n",
      "                        'Albrecht Schmidt',\n",
      "                        'Tovi Grossman'],\n",
      " 'DBLP:conf/chi/2015': ['Bo Begole',\n",
      "                        'Jinwoo Kim',\n",
      "                        'Kori Inkpen',\n",
      "                        'Woontack Woo'],\n",
      " 'DBLP:conf/chi/2015a': ['Bo Begole',\n",
      "                         'Jinwoo Kim',\n",
      "                         'Kori Inkpen',\n",
      "                         'Woontack Woo'],\n",
      " 'DBLP:conf/chi/PerinVF14': ['Charles Perin',\n",
      "                             'Romain Vuillemot',\n",
      "                             'Jean{-}Daniel Fekete'],\n",
      " 'DBLP:conf/chi/VuillemotA15': ['Romain Vuillemot', 'Mehmet Akmanalp'],\n",
      " 'DBLP:conf/chi/VuillemotP15': ['Romain Vuillemot', 'Charles Perin'],\n",
      " 'DBLP:conf/chi/VuillemotPH11': ['Romain Vuillemot',\n",
      "                                 'Jean{-}Marc Petit',\n",
      "                                 'Mohand{-}Said Hacid'],\n",
      " 'DBLP:conf/f-egc/2010': ['Sadok Ben Yahia', 'Jean{-}Marc Petit'],\n",
      " 'DBLP:conf/f-egc/ScuturiciSVOB10': ['Vasile{-}Marian Scuturici',\n",
      "                                     'Dan{-}Mircea Suciu',\n",
      "                                     'Romain Vuillemot',\n",
      "                                     'Aris M. Ouksel',\n",
      "                                     'Lionel Brunie'],\n",
      " 'DBLP:conf/ht/2008': ['Peter Brusilovsky', 'Hugh C. Davis'],\n",
      " 'DBLP:conf/ht/VuillemotR08': ['Romain Vuillemot', \"B{\\\\'{e}}atrice Rumpler\"],\n",
      " 'DBLP:conf/iat/2011w': ['Jomi Fred H{\\\\\"{u}}bner',\n",
      "                         'Jean{-}Marc Petit',\n",
      "                         'Einoshin Suzuki'],\n",
      " 'DBLP:conf/iat/MulsantRV11': [\"J{\\\\'{e}}r{\\\\^{o}}me Mulsant\",\n",
      "                               'Ga{\\\\\"{e}}lle Recourc{\\\\\\'{e}}',\n",
      "                               'Romain Vuillemot'],\n",
      " 'DBLP:conf/iceis/2008': ['Joaquim Filipe', \"Jos{\\\\'{e}} Cordeiro\"],\n",
      " 'DBLP:conf/iceis/2008-5': [\"Jos{\\\\'{e}} Cordeiro\", 'Joaquim Filipe'],\n",
      " 'DBLP:conf/iceis/VuillemotRP08': ['Romain Vuillemot',\n",
      "                                   \"B{\\\\'{e}}atrice Rumpler\",\n",
      "                                   'Jean{-}Marie Pinon'],\n",
      " 'DBLP:conf/iceis/VuillemotRP08a': ['Romain Vuillemot',\n",
      "                                    \"B{\\\\'{e}}atrice Rumpler\",\n",
      "                                    'Jean{-}Marie Pinon'],\n",
      " 'DBLP:conf/ieeevast/VuillemotCPK09': ['Romain Vuillemot',\n",
      "                                       'Tanya E. Clement',\n",
      "                                       'Catherine Plaisant',\n",
      "                                       'Amit Kumar'],\n",
      " 'DBLP:conf/ihm/2009': ['Ga{\\\\\"{e}}lle Calvary',\n",
      "                        'Jo{\\\\\"{e}}lle Coutaz',\n",
      "                        'Philippe A. Palanque'],\n",
      " 'DBLP:conf/ihm/2011': ['Michel Riveill'],\n",
      " 'DBLP:conf/ihm/VuillemotMR11': ['Romain Vuillemot',\n",
      "                                 \"J{\\\\'{e}}r{\\\\^{o}}me Mulsant\",\n",
      "                                 'Ga{\\\\\"{e}}lle Recourc{\\\\\\'{e}}'],\n",
      " 'DBLP:conf/ihm/VuillemotR09': ['Romain Vuillemot', \"B{\\\\'{e}}atrice Rumpler\"],\n",
      " 'DBLP:conf/medes/2009': ['Richard Chbeir',\n",
      "                          'Youakim Badr',\n",
      "                          'Epaminondas Kapetanios',\n",
      "                          'Agma J. Traina'],\n",
      " 'DBLP:conf/medes/VuillemotR09': ['Romain Vuillemot',\n",
      "                                  \"B{\\\\'{e}}atrice Rumpler\"],\n",
      " 'DBLP:conf/www/2018c': ['Pierre{-}Antoine Champin',\n",
      "                         'Fabien L. Gandon',\n",
      "                         'Mounia Lalmas',\n",
      "                         'Panagiotis G. Ipeirotis'],\n",
      " 'DBLP:conf/www/BonifatiW18': ['Angela Bonifati', 'Romain Vuillemot'],\n",
      " 'DBLP:journals/cga/VuillemotP16': ['Romain Vuillemot', 'Charles Perin'],\n",
      " 'DBLP:journals/cgf/PerinVSSWC18': ['Charles Perin',\n",
      "                                    'Romain Vuillemot',\n",
      "                                    'Charles D. Stolper',\n",
      "                                    'John T. Stasko',\n",
      "                                    'J. Wood',\n",
      "                                    'Sheelagh Carpendale'],\n",
      " 'DBLP:journals/corr/abs-1811-11561': ['Stefania Dumbrava',\n",
      "                                       'Angela Bonifati',\n",
      "                                       'Amaia Nazabal Diaz',\n",
      "                                       'Romain Vuillemot'],\n",
      " 'DBLP:journals/isi/HuronVF14': ['Samuel Huron',\n",
      "                                 'Romain Vuillemot',\n",
      "                                 'Jean{-}Daniel Fekete'],\n",
      " 'DBLP:journals/ria/Vuillemot12': ['Romain Vuillemot'],\n",
      " 'DBLP:journals/tvcg/ChevalierVG13': ['Fanny Chevalier',\n",
      "                                      'Romain Vuillemot',\n",
      "                                      'Guia Gali'],\n",
      " 'DBLP:journals/tvcg/HuronVF13': ['Samuel Huron',\n",
      "                                  'Romain Vuillemot',\n",
      "                                  'Jean{-}Daniel Fekete'],\n",
      " 'DBLP:journals/tvcg/HurterRDCAV19': ['Christophe Hurter',\n",
      "                                      'Nathalie Henry Riche',\n",
      "                                      'Steven M. Drucker',\n",
      "                                      'Maxime Cordeil',\n",
      "                                      'Richard Alligier',\n",
      "                                      'Romain Vuillemot'],\n",
      " 'DBLP:journals/tvcg/LexGSVP14': ['Alexander Lex',\n",
      "                                  'Nils Gehlenborg',\n",
      "                                  'Hendrik Strobelt',\n",
      "                                  'Romain Vuillemot',\n",
      "                                  'Hanspeter Pfister'],\n",
      " 'DBLP:journals/tvcg/PerinVF13': ['Charles Perin',\n",
      "                                  'Romain Vuillemot',\n",
      "                                  'Jean{-}Daniel Fekete'],\n",
      " 'DBLP:journals/tvcg/VuillemotB18': ['Romain Vuillemot', 'Jeremy Boy'],\n",
      " 'DBLP:phd/hal/Vuillemot10': ['Romain Vuillemot']}\n"
     ]
    }
   ],
   "source": [
    "# to execute after either list parsing or dict parsing cells\n",
    "\n",
    "with open('test.json', 'w') as f:\n",
    "    json.dump(data, f)\n",
    "\n",
    "pprint(data)"
   ]
  }
 ],
 "metadata": {
  "kernelspec": {
   "display_name": "Python 3",
   "language": "python",
   "name": "python3"
  },
  "language_info": {
   "codemirror_mode": {
    "name": "ipython",
    "version": 3
   },
   "file_extension": ".py",
   "mimetype": "text/x-python",
   "name": "python",
   "nbconvert_exporter": "python",
   "pygments_lexer": "ipython3",
   "version": "3.6.3"
  }
 },
 "nbformat": 4,
 "nbformat_minor": 2
}
