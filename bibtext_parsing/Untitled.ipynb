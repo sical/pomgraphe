{
 "cells": [
  {
   "cell_type": "code",
   "execution_count": 1,
   "metadata": {
    "collapsed": true
   },
   "outputs": [],
   "source": [
    "import requests as req\n",
    "from pprint import pprint\n",
    "import scholarly"
   ]
  },
  {
   "cell_type": "code",
   "execution_count": 2,
   "metadata": {
    "collapsed": true
   },
   "outputs": [],
   "source": [
    "def find(name,team):\n",
    "    name = name.replace(\" \",\":\")\n",
    "    cmpt = 0\n",
    "    \n",
    "    base_url = \"http://dblp.org/search/publ/api\"\n",
    "    url = base_url + \"?q=\" + name + \"+search&format=json&f=\" + str(cmpt)\n",
    "\n",
    "    resp = req.get(url)\n",
    "    #print(resp.text)\n",
    "    if resp.json()[\"result\"][\"hits\"][\"@sent\"] != \"0\":\n",
    "        for i in range(int(resp.json()[\"result\"][\"hits\"][\"@sent\"])):\n",
    "            pprint(resp.json()[\"result\"][\"hits\"][\"hit\"][i][\"info\"])\n",
    "    \n",
    "   # file = open('test/test.bib', 'w')\n",
    "    #file.write(resp)\n",
    "    #file.close()"
   ]
  },
  {
   "cell_type": "code",
   "execution_count": 5,
   "metadata": {
    "scrolled": false
   },
   "outputs": [
    {
     "name": "stdout",
     "output_type": "stream",
     "text": [
      "{'authors': {'author': ['David Couvin',\n",
      "                        'Aude Bernheim',\n",
      "                        'Claire Toffano-Nioche',\n",
      "                        'Marie Touchon',\n",
      "                        'Juraj Michalik',\n",
      "                        'Bertrand Néron',\n",
      "                        'Eduardo P. C. Rocha',\n",
      "                        'Gilles Vergnaud',\n",
      "                        'Daniel Gautheret',\n",
      "                        'Christine Pourcel']},\n",
      " 'doi': '10.1093/NAR/GKY425',\n",
      " 'ee': 'https://doi.org/10.1093/nar/gky425',\n",
      " 'key': 'journals/nar/CouvinBTTMNRVGP18',\n",
      " 'number': 'Webserver-Issue',\n",
      " 'pages': 'W246-W251',\n",
      " 'title': 'CRISPRCasFinder, an update of CRISRFinder, includes a portable '\n",
      "          'version, enhanced performance and integrates search for Cas '\n",
      "          'proteins.',\n",
      " 'type': 'Journal Articles',\n",
      " 'url': 'https://dblp.org/rec/journals/nar/CouvinBTTMNRVGP18',\n",
      " 'venue': 'Nucleic Acids Research',\n",
      " 'volume': '46',\n",
      " 'year': '2018'}\n",
      "{'authors': {'author': ['Bertrand Cabon',\n",
      "                        'Gérard Verfaillie',\n",
      "                        'David Martinez',\n",
      "                        'P. Bourret']},\n",
      " 'key': 'conf/ecai/CabonVMB96',\n",
      " 'pages': '165-169',\n",
      " 'title': 'Using Mean Field Methods for Boosting Backtrack Search in '\n",
      "          'Constraint Satisfaction Problems.',\n",
      " 'type': 'Conference and Workshop Papers',\n",
      " 'url': 'https://dblp.org/rec/conf/ecai/CabonVMB96',\n",
      " 'venue': 'ECAI',\n",
      " 'year': '1996'}\n"
     ]
    }
   ],
   "source": [
    "find(\"Bertrand David\",\"sical\")"
   ]
  },
  {
   "cell_type": "code",
   "execution_count": null,
   "metadata": {
    "collapsed": true
   },
   "outputs": [],
   "source": []
  },
  {
   "cell_type": "code",
   "execution_count": 4,
   "metadata": {},
   "outputs": [
    {
     "ename": "AttributeError",
     "evalue": "'NoneType' object has no attribute 'text'",
     "output_type": "error",
     "traceback": [
      "\u001b[1;31m---------------------------------------------------------------------------\u001b[0m",
      "\u001b[1;31mAttributeError\u001b[0m                            Traceback (most recent call last)",
      "\u001b[1;32m<ipython-input-4-3a21359d8556>\u001b[0m in \u001b[0;36m<module>\u001b[1;34m()\u001b[0m\n\u001b[0;32m      1\u001b[0m \u001b[1;32mimport\u001b[0m \u001b[0mscholarly\u001b[0m\u001b[1;33m\u001b[0m\u001b[0m\n\u001b[0;32m      2\u001b[0m \u001b[1;33m\u001b[0m\u001b[0m\n\u001b[1;32m----> 3\u001b[1;33m \u001b[0mprint\u001b[0m\u001b[1;33m(\u001b[0m\u001b[0mnext\u001b[0m\u001b[1;33m(\u001b[0m\u001b[0mscholarly\u001b[0m\u001b[1;33m.\u001b[0m\u001b[0msearch_author\u001b[0m\u001b[1;33m(\u001b[0m\u001b[1;34m'Romain Vuillemot'\u001b[0m\u001b[1;33m)\u001b[0m\u001b[1;33m)\u001b[0m\u001b[1;33m)\u001b[0m\u001b[1;33m\u001b[0m\u001b[0m\n\u001b[0m",
      "\u001b[1;32m~\\Anaconda3\\lib\\site-packages\\scholarly\\scholarly.py\u001b[0m in \u001b[0;36m_search_citation_soup\u001b[1;34m(soup)\u001b[0m\n\u001b[0;32m    108\u001b[0m     \u001b[1;32mwhile\u001b[0m \u001b[1;32mTrue\u001b[0m\u001b[1;33m:\u001b[0m\u001b[1;33m\u001b[0m\u001b[0m\n\u001b[0;32m    109\u001b[0m         \u001b[1;32mfor\u001b[0m \u001b[0mrow\u001b[0m \u001b[1;32min\u001b[0m \u001b[0msoup\u001b[0m\u001b[1;33m.\u001b[0m\u001b[0mfind_all\u001b[0m\u001b[1;33m(\u001b[0m\u001b[1;34m'div'\u001b[0m\u001b[1;33m,\u001b[0m \u001b[1;34m'gsc_1usr'\u001b[0m\u001b[1;33m)\u001b[0m\u001b[1;33m:\u001b[0m\u001b[1;33m\u001b[0m\u001b[0m\n\u001b[1;32m--> 110\u001b[1;33m             \u001b[1;32myield\u001b[0m \u001b[0mAuthor\u001b[0m\u001b[1;33m(\u001b[0m\u001b[0mrow\u001b[0m\u001b[1;33m)\u001b[0m\u001b[1;33m\u001b[0m\u001b[0m\n\u001b[0m\u001b[0;32m    111\u001b[0m         \u001b[0mnext_button\u001b[0m \u001b[1;33m=\u001b[0m \u001b[0msoup\u001b[0m\u001b[1;33m.\u001b[0m\u001b[0mfind\u001b[0m\u001b[1;33m(\u001b[0m\u001b[0mclass_\u001b[0m\u001b[1;33m=\u001b[0m\u001b[1;34m'gs_btnPR gs_in_ib gs_btn_half gs_btn_lsb gs_btn_srt gsc_pgn_pnx'\u001b[0m\u001b[1;33m)\u001b[0m\u001b[1;33m\u001b[0m\u001b[0m\n\u001b[0;32m    112\u001b[0m         \u001b[1;32mif\u001b[0m \u001b[0mnext_button\u001b[0m \u001b[1;32mand\u001b[0m \u001b[1;34m'disabled'\u001b[0m \u001b[1;32mnot\u001b[0m \u001b[1;32min\u001b[0m \u001b[0mnext_button\u001b[0m\u001b[1;33m.\u001b[0m\u001b[0mattrs\u001b[0m\u001b[1;33m:\u001b[0m\u001b[1;33m\u001b[0m\u001b[0m\n",
      "\u001b[1;32m~\\Anaconda3\\lib\\site-packages\\scholarly\\scholarly.py\u001b[0m in \u001b[0;36m__init__\u001b[1;34m(self, _Author__data)\u001b[0m\n\u001b[0;32m    224\u001b[0m             \u001b[0mself\u001b[0m\u001b[1;33m.\u001b[0m\u001b[0mid\u001b[0m \u001b[1;33m=\u001b[0m \u001b[0mre\u001b[0m\u001b[1;33m.\u001b[0m\u001b[0mfindall\u001b[0m\u001b[1;33m(\u001b[0m\u001b[0m_CITATIONAUTHRE\u001b[0m\u001b[1;33m,\u001b[0m \u001b[0m__data\u001b[0m\u001b[1;33m(\u001b[0m\u001b[1;34m'a'\u001b[0m\u001b[1;33m)\u001b[0m\u001b[1;33m[\u001b[0m\u001b[1;36m0\u001b[0m\u001b[1;33m]\u001b[0m\u001b[1;33m[\u001b[0m\u001b[1;34m'href'\u001b[0m\u001b[1;33m]\u001b[0m\u001b[1;33m)\u001b[0m\u001b[1;33m[\u001b[0m\u001b[1;36m0\u001b[0m\u001b[1;33m]\u001b[0m\u001b[1;33m\u001b[0m\u001b[0m\n\u001b[0;32m    225\u001b[0m             \u001b[0mself\u001b[0m\u001b[1;33m.\u001b[0m\u001b[0murl_picture\u001b[0m \u001b[1;33m=\u001b[0m \u001b[0m_HOST\u001b[0m\u001b[1;33m+\u001b[0m\u001b[1;34m'/citations?view_op=medium_photo&user={}'\u001b[0m\u001b[1;33m.\u001b[0m\u001b[0mformat\u001b[0m\u001b[1;33m(\u001b[0m\u001b[0mself\u001b[0m\u001b[1;33m.\u001b[0m\u001b[0mid\u001b[0m\u001b[1;33m)\u001b[0m\u001b[1;33m\u001b[0m\u001b[0m\n\u001b[1;32m--> 226\u001b[1;33m             \u001b[0mself\u001b[0m\u001b[1;33m.\u001b[0m\u001b[0mname\u001b[0m \u001b[1;33m=\u001b[0m \u001b[0m__data\u001b[0m\u001b[1;33m.\u001b[0m\u001b[0mfind\u001b[0m\u001b[1;33m(\u001b[0m\u001b[1;34m'h3'\u001b[0m\u001b[1;33m,\u001b[0m \u001b[0mclass_\u001b[0m\u001b[1;33m=\u001b[0m\u001b[1;34m'gsc_oai_name'\u001b[0m\u001b[1;33m)\u001b[0m\u001b[1;33m.\u001b[0m\u001b[0mtext\u001b[0m\u001b[1;33m\u001b[0m\u001b[0m\n\u001b[0m\u001b[0;32m    227\u001b[0m             \u001b[0maffiliation\u001b[0m \u001b[1;33m=\u001b[0m \u001b[0m__data\u001b[0m\u001b[1;33m.\u001b[0m\u001b[0mfind\u001b[0m\u001b[1;33m(\u001b[0m\u001b[1;34m'div'\u001b[0m\u001b[1;33m,\u001b[0m \u001b[0mclass_\u001b[0m\u001b[1;33m=\u001b[0m\u001b[1;34m'gsc_oai_aff'\u001b[0m\u001b[1;33m)\u001b[0m\u001b[1;33m\u001b[0m\u001b[0m\n\u001b[0;32m    228\u001b[0m             \u001b[1;32mif\u001b[0m \u001b[0maffiliation\u001b[0m\u001b[1;33m:\u001b[0m\u001b[1;33m\u001b[0m\u001b[0m\n",
      "\u001b[1;31mAttributeError\u001b[0m: 'NoneType' object has no attribute 'text'"
     ]
    }
   ],
   "source": [
    "import scholarly\n",
    "\n",
    "print(next(scholarly.search_author('Romain Vuillemot')))"
   ]
  }
 ],
 "metadata": {
  "kernelspec": {
   "display_name": "Python 3",
   "language": "python",
   "name": "python3"
  },
  "language_info": {
   "codemirror_mode": {
    "name": "ipython",
    "version": 3
   },
   "file_extension": ".py",
   "mimetype": "text/x-python",
   "name": "python",
   "nbconvert_exporter": "python",
   "pygments_lexer": "ipython3",
   "version": "3.6.3"
  }
 },
 "nbformat": 4,
 "nbformat_minor": 2
}
