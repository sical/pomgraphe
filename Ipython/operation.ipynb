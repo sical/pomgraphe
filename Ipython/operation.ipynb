{
 "cells": [
  {
   "cell_type": "code",
   "execution_count": 10,
   "metadata": {},
   "outputs": [],
   "source": [
    "import networkx as nx\n",
    "import os \n",
    "import seaborn as sns\n",
    "import matplotlib.pyplot as plt\n",
    "from networkx.drawing.nx_agraph import graphviz_layout"
   ]
  },
  {
   "cell_type": "code",
   "execution_count": 11,
   "metadata": {},
   "outputs": [],
   "source": [
    "#            ,----------------,              ,---------,\n",
    "#        ,-----------------------,          ,\"        ,\"|\n",
    "#      ,\"                      ,\"|        ,\"        ,\"  |\n",
    "#     +-----------------------+  |      ,\"        ,\"    |\n",
    "#     |  .-----------------.  |  |     +---------+      |\n",
    "#     |  |                 |  |  |     | -==----'|      |\n",
    "#     |  |  I LOVE DOS!    |  |  |     |         |      |\n",
    "#     |  |  Bad command or |  |  |/----|`---=    |      |\n",
    "#     |  |  C:\\>_          |  |  |   ,/|==== ooo |      ;\n",
    "#     |  |                 |  |  |  // |(((( [33]|    ,\"\n",
    "#     |  `-----------------'  |,\" .;'| |((((     |  ,\"\n",
    "#     +-----------------------+  ;;  | |         |,\"\n",
    "#        /_)______________(_/  //'   | +---------+\n",
    "#   ___________________________/___  `,\n",
    "#  /  oooooooooooooooo  .o.  oooo /,   \\,\"-----------\n",
    "# / ==ooooooooooooooo==.o.  ooo= //   ,`\\--{)B     ,\"\n",
    "#/_==__==========__==_ooo__ooo=_/'   /___________,\"\n",
    "#`-----------------------------'"
   ]
  },
  {
   "cell_type": "code",
   "execution_count": 12,
   "metadata": {},
   "outputs": [],
   "source": [
    "tableau_closeness_centrality = []\n",
    "tableau_degree_centrality = []\n",
    "tableau_pagerank = []\n",
    "tableau_betweeness = []\n",
    "dicoNomToNum = dict()\n",
    "numNoeud = \"\""
   ]
  },
  {
   "cell_type": "code",
   "execution_count": 13,
   "metadata": {},
   "outputs": [],
   "source": [
    "def type_centralite_voulu(numNoeud, operations) :\n",
    "    \n",
    "    liste = operations\n",
    "    i = 0\n",
    "    tab =[]\n",
    "\n",
    "    if 'd' in liste:\n",
    "        tab.append([x[numNoeud] for x in tableau_degree_centrality])\n",
    "        sns.tsplot(tab[i], color = \"blue\")\n",
    "        i+=1\n",
    "    if 'c' in liste:\n",
    "        tab.append([x[numNoeud] for x in tableau_closeness_centrality])\n",
    "        sns.tsplot(tab[i], color = \"red\")\n",
    "        i+=1\n",
    "    if 'p' in liste:\n",
    "        tab.append([x[numNoeud] for x in tableau_pagerank])\n",
    "        sns.tsplot(tab[i], color = \"black\")\n",
    "        i+=1\n",
    "    if 'b' in liste:\n",
    "        tab.append([x[numNoeud] for x in tableau_betweeness])\n",
    "        sns.tsplot(tab[i], color = \"green\")\n",
    "        i+=1"
   ]
  },
  {
   "cell_type": "code",
   "execution_count": 14,
   "metadata": {},
   "outputs": [],
   "source": [
    "def recherche_nom(nom, operations) :\n",
    "    nomNoeud = str(nom)\n",
    "    numNoeud = dicoNomToNum[nomNoeud]\n",
    "    \n",
    "    type_centralite_voulu(numNoeud, operations)\n",
    "    \n",
    "    plt.savefig(\"images/\" + nom + operations + \".jpg\")\n",
    "    \n",
    "    plt.clf()\n",
    "    plt.close('all')"
   ]
  },
  {
   "cell_type": "code",
   "execution_count": 23,
   "metadata": {},
   "outputs": [],
   "source": [
    "def start_main(Nomserie,nbScenes, nom, operations) :\n",
    "\n",
    "#    if Nomserie == \"Game of Thrones\":\n",
    "#        \"\"\" On crée un dictionnaire qui associe les noms des persos à leur numéro de noeud \"\"\"\n",
    "#        G1=nx.read_graphml(\"data/got/GoT_S05E09_1039.graphml\")\n",
    "#        serie =\"got\"\n",
    "#    if Nomserie ==  \"Breaking Bad\":\n",
    "#        G1=nx.read_graphml(\"data/bb/BB_S03E11_598.graphml\")\n",
    "#        serie = \"bb\"\n",
    "#    if Nomserie == \"House of Card\":\n",
    "#        G1=nx.read_graphml(\"data/hoc/HoC_S02E13_879.graphml\")\n",
    "#        serie = \"hoc\"\n",
    "#    dicoNumToNom = nx.get_node_attributes(G1,\"label\")\n",
    "#    for cle in dicoNumToNom : \n",
    "#        dicoNomToNum[dicoNumToNom[cle]] = cle\n",
    "        \n",
    "    G1 = nx.read_graphml(\"data/GoT_S01E01_000.graphml\")\n",
    "    serie = \"got\"\n",
    "    dicoNumToNom = nx.get_node_attributes(G1,\"label\")\n",
    "    for cle in dicoNumToNom : \n",
    "        dicoNomToNum[dicoNumToNom[cle]] = cle    \n",
    "    \n",
    "    plage = nbScenes\n",
    "    if plage > 1039 :\n",
    "        plage = 1039\n",
    "    liste_graph = []\n",
    "    for element in os.listdir('data//' )[:plage]:\n",
    "        liste_graph.append(nx.read_graphml(\"data\\\\\"+ str(element)))\n",
    "            \n",
    "   \n",
    "    for l in liste_graph :\n",
    "        \"\"\" |== >  Affichage du graphe de la case liste_graph(l)\"\"\"\n",
    "        tableau_degree_centrality.append(nx.degree_centrality(l))  # une façon de lire la centralité\n",
    "        tableau_closeness_centrality.append(nx.closeness_centrality(l))\n",
    "        tableau_pagerank.append(nx.pagerank(l))\n",
    "        tableau_betweeness.append(nx.betweenness_centrality(l))\n",
    "            \n",
    "    recherche_nom(nom, operations)"
   ]
  },
  {
   "cell_type": "code",
   "execution_count": 26,
   "metadata": {},
   "outputs": [
    {
     "name": "stderr",
     "output_type": "stream",
     "text": [
      "C:\\Users\\yanni\\Anaconda3\\lib\\site-packages\\seaborn\\timeseries.py:183: UserWarning: The tsplot function is deprecated and will be removed or replaced (in a substantially altered version) in a future release.\n",
      "  warnings.warn(msg, UserWarning)\n"
     ]
    }
   ],
   "source": [
    "start_main(\"Game of Thrones\",2,\"Tyrion Lannister\",'d')"
   ]
  }
 ],
 "metadata": {
  "kernelspec": {
   "display_name": "Python 3",
   "language": "python",
   "name": "python3"
  },
  "language_info": {
   "codemirror_mode": {
    "name": "ipython",
    "version": 3
   },
   "file_extension": ".py",
   "mimetype": "text/x-python",
   "name": "python",
   "nbconvert_exporter": "python",
   "pygments_lexer": "ipython3",
   "version": "3.6.4"
  }
 },
 "nbformat": 4,
 "nbformat_minor": 2
}
